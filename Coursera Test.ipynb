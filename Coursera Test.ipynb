{
 "cells": [
  {
   "cell_type": "code",
   "execution_count": 1,
   "id": "dfa1714b-acdd-420c-9729-3234cbe59f97",
   "metadata": {},
   "outputs": [
    {
     "name": "stdout",
     "output_type": "stream",
     "text": [
      "Hello 2PAC\n",
      "Hello 50 Cent\n",
      "Hello Biggie Smalls\n"
     ]
    }
   ],
   "source": [
    "artists=[\"2PAC\", \"50 Cent\", \"Biggie Smalls\"]\n",
    "for artist in artists:\n",
    "    print (\"Hello \" + artist)"
   ]
  },
  {
   "cell_type": "code",
   "execution_count": 3,
   "id": "28fdf5d8-e908-4cea-8a76-bfcc98ee35f5",
   "metadata": {},
   "outputs": [
    {
     "name": "stdout",
     "output_type": "stream",
     "text": [
      "Masters\n",
      "Masters\n",
      "Masters\n",
      "Masters\n",
      "Masters\n"
     ]
    }
   ],
   "source": [
    "for i in range (5):\n",
    "    print (\"Masters\")"
   ]
  },
  {
   "cell_type": "code",
   "execution_count": 9,
   "id": "a391837b-cae9-41a9-a993-a61b88f36327",
   "metadata": {},
   "outputs": [
    {
     "name": "stdout",
     "output_type": "stream",
     "text": [
      "Would You Like Highland\n",
      "Would You Like Evian\n",
      "Would You Like VOSS\n"
     ]
    }
   ],
   "source": [
    "waterbottles=[\"Highland\", \"Evian\", \"VOSS\"]\n",
    "for waterbottle in waterbottles:\n",
    " print (\"Would You Like \" + waterbottle)"
   ]
  },
  {
   "cell_type": "code",
   "execution_count": 33,
   "id": "1c595134-ac72-4fe1-a230-b2d571122cdd",
   "metadata": {},
   "outputs": [
    {
     "name": "stdout",
     "output_type": "stream",
     "text": [
      "Would You Like Highland\n"
     ]
    }
   ],
   "source": [
    "waterbottle=\"Highland\"\n",
    "print(\"Would You Like \" + waterbottle)"
   ]
  },
  {
   "cell_type": "code",
   "execution_count": 35,
   "id": "e7909021-c7f6-4958-91ec-c5785832d3c6",
   "metadata": {},
   "outputs": [
    {
     "name": "stdout",
     "output_type": "stream",
     "text": [
      "2+2\n"
     ]
    }
   ],
   "source": [
    "print(\"2+2\")"
   ]
  },
  {
   "cell_type": "code",
   "execution_count": 37,
   "id": "426628a0-dd3a-4ead-bfa6-1cca95da6c6f",
   "metadata": {},
   "outputs": [
    {
     "name": "stdout",
     "output_type": "stream",
     "text": [
      "4\n"
     ]
    }
   ],
   "source": [
    "print(2+2)"
   ]
  },
  {
   "cell_type": "code",
   "execution_count": 45,
   "id": "48956d29-a1cb-4634-9863-994f70acaf67",
   "metadata": {},
   "outputs": [
    {
     "name": "stdout",
     "output_type": "stream",
     "text": [
      "40.0\n"
     ]
    }
   ],
   "source": [
    "print((((2050/5)-32)/9)-2)"
   ]
  },
  {
   "cell_type": "code",
   "execution_count": 47,
   "id": "221f93f1-09eb-46a2-b03c-27dc832843b8",
   "metadata": {},
   "outputs": [
    {
     "name": "stdout",
     "output_type": "stream",
     "text": [
      "Jill\n"
     ]
    }
   ],
   "source": [
    "name=(\"Jill\")\n",
    "print(name)"
   ]
  },
  {
   "cell_type": "code",
   "execution_count": 49,
   "id": "ebc1dba2-efe7-41ed-8ae9-a5628e5c2008",
   "metadata": {},
   "outputs": [
    {
     "name": "stdout",
     "output_type": "stream",
     "text": [
      "Jill\n"
     ]
    }
   ],
   "source": [
    "name=\"Jill\"\n",
    "print(name)"
   ]
  },
  {
   "cell_type": "code",
   "execution_count": 2,
   "id": "dd227c72-bebf-4a1c-871a-fcdd4261be9f",
   "metadata": {},
   "outputs": [
    {
     "name": "stdout",
     "output_type": "stream",
     "text": [
      "Hello\n"
     ]
    }
   ],
   "source": [
    "print(\"Hello\")"
   ]
  },
  {
   "cell_type": "code",
   "execution_count": 3,
   "id": "6a085791-e741-421f-86e8-5785023c81b6",
   "metadata": {},
   "outputs": [
    {
     "name": "stdout",
     "output_type": "stream",
     "text": [
      "420\n"
     ]
    }
   ],
   "source": [
    "print(((2 + 2) * 3) * 35)"
   ]
  },
  {
   "cell_type": "code",
   "execution_count": 6,
   "id": "f3b8468b-402d-4be7-a759-d1129efb1d90",
   "metadata": {},
   "outputs": [
    {
     "name": "stdout",
     "output_type": "stream",
     "text": [
      "2 hours 30 minutes\n"
     ]
    }
   ],
   "source": [
    "print(150 // 60, \"hours\", 150 % 60, \"minutes\")"
   ]
  },
  {
   "cell_type": "markdown",
   "id": "8ee8bca6-dc1c-4cba-8d4d-0ee4c08d173b",
   "metadata": {},
   "source": [
    "#Introduction\n",
    "\n",
    "An Unordered List of objectives:"
   ]
  },
  {
   "cell_type": "code",
   "execution_count": 7,
   "id": "0bf946bd-5984-4a50-9fab-46e504d39f78",
   "metadata": {},
   "outputs": [
    {
     "name": "stdout",
     "output_type": "stream",
     "text": [
      "['Learn Python basics', 'Understand data structures', 'Practice problem-solving', 'Build projects', 'Master debugging']\n"
     ]
    }
   ],
   "source": [
    "objectives = [\n",
    "    \"Learn Python basics\",\n",
    "    \"Understand data structures\",\n",
    "    \"Practice problem-solving\",\n",
    "    \"Build projects\",\n",
    "    \"Master debugging\"]\n",
    "\n",
    "print(objectives)"
   ]
  },
  {
   "cell_type": "markdown",
   "id": "f7a9d960-894c-4c8f-a4b4-08269d2ee0b2",
   "metadata": {},
   "source": [
    "Author's Name: Nnadozie Ezenekwe"
   ]
  }
 ],
 "metadata": {
  "kernelspec": {
   "display_name": "Python 3 (ipykernel)",
   "language": "python",
   "name": "python3"
  },
  "language_info": {
   "codemirror_mode": {
    "name": "ipython",
    "version": 3
   },
   "file_extension": ".py",
   "mimetype": "text/x-python",
   "name": "python",
   "nbconvert_exporter": "python",
   "pygments_lexer": "ipython3",
   "version": "3.12.7"
  }
 },
 "nbformat": 4,
 "nbformat_minor": 5
}
